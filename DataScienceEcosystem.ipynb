{
 "cells": [
  {
   "cell_type": "markdown",
   "id": "ebaae4ba-20a4-400a-916e-ea4a21837170",
   "metadata": {},
   "source": [
    "# Data Science Tools and Ecosystem"
   ]
  },
  {
   "cell_type": "markdown",
   "id": "b4bae45b-576e-48a4-b402-47d7ea297790",
   "metadata": {},
   "source": [
    "In this notebook, Data Science Tools and Ecosystem are summarized."
   ]
  },
  {
   "cell_type": "markdown",
   "id": "1b6abc3c-b142-4582-8a85-eb078a1172d0",
   "metadata": {},
   "source": [
    "**Objectives:**\n",
    "* List popular languages for Data Science\n",
    "* Jupyter Notebooks and JupyterLab\n",
    "* RStudio and GitHub"
   ]
  },
  {
   "cell_type": "markdown",
   "id": "3b5bc559-a28e-414a-974c-3329d9bc8512",
   "metadata": {},
   "source": [
    "Some of the popular languages that Data Scientists use are:"
   ]
  },
  {
   "cell_type": "markdown",
   "id": "ccf63200-a1e2-4b5d-8836-c2c99dceabe4",
   "metadata": {},
   "source": [
    "1. Python\n",
    "2. Java\n",
    "3. C++\n",
    "4. C"
   ]
  },
  {
   "cell_type": "markdown",
   "id": "e6301128-a5ba-4876-b89e-c315748ebc42",
   "metadata": {},
   "source": [
    "Some of the commonly used libraries used by Data Scientists include:"
   ]
  },
  {
   "cell_type": "markdown",
   "id": "fa72d80e-7cf2-4365-94bd-4d6b7aa4772c",
   "metadata": {},
   "source": [
    "1. Pandas\n",
    "2. Matplotlib\n",
    "3. Tensorflow\n",
    "4. Keras"
   ]
  },
  {
   "cell_type": "markdown",
   "id": "ffb33337-0ecd-4e6e-981e-80f9b9206f09",
   "metadata": {},
   "source": [
    "| Data Science Tools |\n",
    "| ------------------- |\n",
    "|Apache Prediction IO |\n",
    "| Seldon |\n",
    "| Redhat OpenShirfs |"
   ]
  },
  {
   "cell_type": "markdown",
   "id": "4ec5d78f-d5a5-4496-ba45-389b2673554d",
   "metadata": {},
   "source": [
    "### Below are a few examples of evaluating arithmetic expressions in Python"
   ]
  },
  {
   "cell_type": "code",
   "execution_count": 34,
   "id": "f8105200-05c7-4500-8047-7693d3dcb2be",
   "metadata": {},
   "outputs": [
    {
     "data": {
      "text/plain": [
       "17"
      ]
     },
     "execution_count": 34,
     "metadata": {},
     "output_type": "execute_result"
    }
   ],
   "source": [
    "# This a simple arithmetic expression to mutiply then add integers\n",
    "(3*4)+5"
   ]
  },
  {
   "cell_type": "code",
   "execution_count": 32,
   "id": "c25421de-d8fc-4b53-a09f-57e242db9583",
   "metadata": {},
   "outputs": [
    {
     "name": "stdout",
     "output_type": "stream",
     "text": [
      "3.3333333333333335\n"
     ]
    }
   ],
   "source": [
    "# This will convert 200 minutes to hours by diving by 60\n",
    "min = 200\n",
    "h = min / 60\n",
    "print(h)"
   ]
  },
  {
   "cell_type": "markdown",
   "id": "698e4999-2ee9-4948-8456-7d2655845b09",
   "metadata": {},
   "source": [
    "## Author\n",
    "Alessia Girschik"
   ]
  },
  {
   "cell_type": "code",
   "execution_count": null,
   "id": "fddcf129-ee88-4a90-8326-28ca8ac4878f",
   "metadata": {},
   "outputs": [],
   "source": []
  }
 ],
 "metadata": {
  "kernelspec": {
   "display_name": "Python [conda env:base] *",
   "language": "python",
   "name": "conda-base-py"
  },
  "language_info": {
   "codemirror_mode": {
    "name": "ipython",
    "version": 3
   },
   "file_extension": ".py",
   "mimetype": "text/x-python",
   "name": "python",
   "nbconvert_exporter": "python",
   "pygments_lexer": "ipython3",
   "version": "3.12.7"
  }
 },
 "nbformat": 4,
 "nbformat_minor": 5
}
